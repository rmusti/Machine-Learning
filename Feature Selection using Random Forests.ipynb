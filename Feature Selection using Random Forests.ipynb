{
 "cells": [
  {
   "cell_type": "code",
   "execution_count": 38,
   "metadata": {},
   "outputs": [],
   "source": [
    "import pandas as pd\n",
    "import numpy as np\n",
    "from sklearn import datasets\n",
    "from sklearn.model_selection import train_test_split\n",
    "from sklearn.linear_model import LogisticRegression\n",
    "from sklearn.preprocessing import StandardScaler\n",
    "from sklearn.ensemble import RandomForestClassifier\n",
    "import matplotlib.pyplot as plt\n",
    "from sklearn.feature_selection import SelectFromModel"
   ]
  },
  {
   "cell_type": "code",
   "execution_count": 2,
   "metadata": {},
   "outputs": [],
   "source": [
    "wine = datasets.load_wine()\n",
    "df_wine = pd.DataFrame(wine.data , columns=wine.feature_names)\n",
    "df_wine['class_label'] = wine.target\n",
    "x = df_wine.iloc[:,0:-1].values\n",
    "y = df_wine.iloc[:,-1].values\n",
    "x_train , x_test , y_train , y_test = train_test_split(x, y, test_size=0.3, random_state=1 , stratify = y)"
   ]
  },
  {
   "cell_type": "code",
   "execution_count": 4,
   "metadata": {},
   "outputs": [],
   "source": [
    "forest = RandomForestClassifier(n_estimators=100, random_state=1)"
   ]
  },
  {
   "cell_type": "code",
   "execution_count": 6,
   "metadata": {},
   "outputs": [
    {
     "data": {
      "text/plain": [
       "RandomForestClassifier(bootstrap=True, class_weight=None, criterion='gini',\n",
       "            max_depth=None, max_features='auto', max_leaf_nodes=None,\n",
       "            min_impurity_decrease=0.0, min_impurity_split=None,\n",
       "            min_samples_leaf=1, min_samples_split=2,\n",
       "            min_weight_fraction_leaf=0.0, n_estimators=100, n_jobs=1,\n",
       "            oob_score=False, random_state=1, verbose=0, warm_start=False)"
      ]
     },
     "execution_count": 6,
     "metadata": {},
     "output_type": "execute_result"
    }
   ],
   "source": [
    "forest.fit(x_train, y_train)"
   ]
  },
  {
   "cell_type": "code",
   "execution_count": 7,
   "metadata": {},
   "outputs": [],
   "source": [
    "importance = forest.feature_importances_"
   ]
  },
  {
   "cell_type": "code",
   "execution_count": 8,
   "metadata": {},
   "outputs": [
    {
     "data": {
      "text/plain": [
       "array([0.12601054, 0.02797766, 0.0106316 , 0.04239039, 0.02290837,\n",
       "       0.04658827, 0.14268641, 0.00796557, 0.03036863, 0.14438947,\n",
       "       0.06691008, 0.12470648, 0.20646652])"
      ]
     },
     "execution_count": 8,
     "metadata": {},
     "output_type": "execute_result"
    }
   ],
   "source": [
    "importance"
   ]
  },
  {
   "cell_type": "code",
   "execution_count": 14,
   "metadata": {},
   "outputs": [],
   "source": [
    "labels = df_wine.columns[0:-1]"
   ]
  },
  {
   "cell_type": "code",
   "execution_count": 15,
   "metadata": {},
   "outputs": [
    {
     "data": {
      "text/plain": [
       "Index(['alcohol', 'malic_acid', 'ash', 'alcalinity_of_ash', 'magnesium',\n",
       "       'total_phenols', 'flavanoids', 'nonflavanoid_phenols',\n",
       "       'proanthocyanins', 'color_intensity', 'hue',\n",
       "       'od280/od315_of_diluted_wines', 'proline'],\n",
       "      dtype='object')"
      ]
     },
     "execution_count": 15,
     "metadata": {},
     "output_type": "execute_result"
    }
   ],
   "source": [
    "labels"
   ]
  },
  {
   "cell_type": "code",
   "execution_count": 22,
   "metadata": {},
   "outputs": [],
   "source": [
    "indices = np.argsort(importance)[::-1] "
   ]
  },
  {
   "cell_type": "code",
   "execution_count": 23,
   "metadata": {},
   "outputs": [
    {
     "data": {
      "text/plain": [
       "array([12,  9,  6,  0, 11, 10,  5,  3,  8,  1,  4,  2,  7], dtype=int64)"
      ]
     },
     "execution_count": 23,
     "metadata": {},
     "output_type": "execute_result"
    }
   ],
   "source": [
    "indices"
   ]
  },
  {
   "cell_type": "code",
   "execution_count": 32,
   "metadata": {},
   "outputs": [
    {
     "name": "stdout",
     "output_type": "stream",
     "text": [
      " 1) proline                        0.206467\n",
      " 2) color_intensity                0.144389\n",
      " 3) flavanoids                     0.142686\n",
      " 4) alcohol                        0.126011\n",
      " 5) od280/od315_of_diluted_wines   0.124706\n",
      " 6) hue                            0.066910\n",
      " 7) total_phenols                  0.046588\n",
      " 8) alcalinity_of_ash              0.042390\n",
      " 9) proanthocyanins                0.030369\n",
      " 10) malic_acid                     0.027978\n",
      " 11) magnesium                      0.022908\n",
      " 12) ash                            0.010632\n",
      " 13) nonflavanoid_phenols           0.007966\n"
     ]
    }
   ],
   "source": [
    "for f in range(x_train.shape[1]):\n",
    "    print(\" %d) %-*s %f\" % (f+1 ,30, labels[indices[f]] , importance[indices[f]]))"
   ]
  },
  {
   "cell_type": "code",
   "execution_count": 18,
   "metadata": {},
   "outputs": [
    {
     "data": {
      "text/plain": [
       "13"
      ]
     },
     "execution_count": 18,
     "metadata": {},
     "output_type": "execute_result"
    }
   ],
   "source": [
    "x_train.shape[1]"
   ]
  },
  {
   "cell_type": "code",
   "execution_count": 37,
   "metadata": {},
   "outputs": [
    {
     "data": {
      "text/plain": [
       "([<matplotlib.axis.XTick at 0x2b1b39491d0>,\n",
       "  <matplotlib.axis.XTick at 0x2b1b1b23b00>,\n",
       "  <matplotlib.axis.XTick at 0x2b1b3949da0>,\n",
       "  <matplotlib.axis.XTick at 0x2b1b3939668>,\n",
       "  <matplotlib.axis.XTick at 0x2b1b3903898>,\n",
       "  <matplotlib.axis.XTick at 0x2b1b3903240>,\n",
       "  <matplotlib.axis.XTick at 0x2b1b39205c0>,\n",
       "  <matplotlib.axis.XTick at 0x2b1b3920630>,\n",
       "  <matplotlib.axis.XTick at 0x2b1b390a0f0>,\n",
       "  <matplotlib.axis.XTick at 0x2b1b390ab00>,\n",
       "  <matplotlib.axis.XTick at 0x2b1b3912048>,\n",
       "  <matplotlib.axis.XTick at 0x2b1b3912908>,\n",
       "  <matplotlib.axis.XTick at 0x2b1b39126d8>],\n",
       " <a list of 13 Text xticklabel objects>)"
      ]
     },
     "execution_count": 37,
     "metadata": {},
     "output_type": "execute_result"
    },
    {
     "data": {
      "image/png": "[encoded data removed]",
      "text/plain": [
       "<matplotlib.figure.Figure at 0x2b1b3912e10>"
      ]
     },
     "metadata": {},
     "output_type": "display_data"
    }
   ],
   "source": [
    "plt.bar(range(x_train.shape[1]),importance[indices])\n",
    "plt.xticks(range(x_train.shape[1]), labels, rotation=90)"
   ]
  },
  {
   "cell_type": "code",
   "execution_count": 39,
   "metadata": {},
   "outputs": [],
   "source": [
    "sfm = SelectFromModel(forest, threshold=0.1, prefit=True)"
   ]
  },
  {
   "cell_type": "code",
   "execution_count": 42,
   "metadata": {},
   "outputs": [],
   "source": [
    "x_selected = sfm.transform(x_train)"
   ]
  },
  {
   "cell_type": "code",
   "execution_count": 44,
   "metadata": {},
   "outputs": [
    {
     "data": {
      "text/plain": [
       "124"
      ]
     },
     "execution_count": 44,
     "metadata": {},
     "output_type": "execute_result"
    }
   ],
   "source": [
    "x_selected.shape[0]"
   ]
  },
  {
   "cell_type": "code",
   "execution_count": 47,
   "metadata": {},
   "outputs": [
    {
     "name": "stdout",
     "output_type": "stream",
     "text": [
      " 1) proline                        0.206467\n",
      " 2) color_intensity                0.144389\n",
      " 3) flavanoids                     0.142686\n",
      " 4) alcohol                        0.126011\n",
      " 5) od280/od315_of_diluted_wines   0.124706\n"
     ]
    }
   ],
   "source": [
    "for f in range(x_selected.shape[1]):\n",
    "    print(\"%2d) %-*s %f\" % (f+1, 30 , labels[indices[f]], importance[indices[f]]))"
   ]
  },
  {
   "cell_type": "code",
   "execution_count": null,
   "metadata": {},
   "outputs": [],
   "source": []
  }
 ],
 "metadata": {
  "kernelspec": {
   "display_name": "Python 3",
   "language": "python",
   "name": "python3"
  },
  "language_info": {
   "codemirror_mode": {
    "name": "ipython",
    "version": 3
   },
   "file_extension": ".py",
   "mimetype": "text/x-python",
   "name": "python",
   "nbconvert_exporter": "python",
   "pygments_lexer": "ipython3",
   "version": "3.6.4"
  }
 },
 "nbformat": 4,
 "nbformat_minor": 2
}
